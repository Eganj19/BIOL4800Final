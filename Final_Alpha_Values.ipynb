{
  "nbformat": 4,
  "nbformat_minor": 0,
  "metadata": {
    "colab": {
      "name": "Final_Alpha_Values",
      "provenance": [],
      "collapsed_sections": [],
      "authorship_tag": "ABX9TyOJbT+bsE9TfOHO54SQs2DC",
      "include_colab_link": true
    },
    "kernelspec": {
      "name": "python3",
      "display_name": "Python 3"
    },
    "language_info": {
      "name": "python"
    }
  },
  "cells": [
    {
      "cell_type": "markdown",
      "metadata": {
        "id": "view-in-github",
        "colab_type": "text"
      },
      "source": [
        "<a href=\"https://colab.research.google.com/github/Eganj19/BIOL4800Final/blob/main/Final_Alpha_Values.ipynb\" target=\"_parent\"><img src=\"https://colab.research.google.com/assets/colab-badge.svg\" alt=\"Open In Colab\"/></a>"
      ]
    },
    {
      "cell_type": "markdown",
      "source": [
        "# How much does the average American Consume?\n"
      ],
      "metadata": {
        "id": "iiUL5XtqcQKu"
      }
    },
    {
      "cell_type": "code",
      "execution_count": 1,
      "metadata": {
        "colab": {
          "base_uri": "https://localhost:8080/"
        },
        "id": "w9jN0oH_Z38h",
        "outputId": "d6fe33ed-393d-46f6-88e9-473d885e2919"
      },
      "outputs": [
        {
          "output_type": "execute_result",
          "data": {
            "text/plain": [
              "True"
            ]
          },
          "metadata": {},
          "execution_count": 1
        }
      ],
      "source": [
        "import numpy as np\n",
        "import pandas as pd\n",
        "var = float('nan')\n",
        "var is np.nan #results in True\n",
        "#or\n",
        "np.isnan(var) #results in True\n",
        "#or\n",
        "pd.isna(var) #results in True\n",
        "#or\n",
        "pd.isnull(var)#results in True"
      ]
    },
    {
      "cell_type": "code",
      "source": [
        "Foods = pd.read_csv('/content/Data_Analysis_file_updated_csv.csv')\n",
        "print(Foods)"
      ],
      "metadata": {
        "colab": {
          "base_uri": "https://localhost:8080/"
        },
        "id": "s6iMwa0GaET9",
        "outputId": "50666107-4951-469e-ce92-4c864879c7eb"
      },
      "execution_count": 2,
      "outputs": [
        {
          "output_type": "stream",
          "name": "stdout",
          "text": [
            "                  Foods  ...   Recommended Serving Weight (g)\n",
            "0                Turkey  ...                               85\n",
            "1                Turkey  ...                               85\n",
            "2                Turkey  ...                               85\n",
            "3            Sprial Ham  ...                               28\n",
            "4            Sprial Ham  ...                               28\n",
            "5            Sprial Ham  ...                               85\n",
            "6        Mashed Potaoes  ...                              210\n",
            "7        Mashed Potaoes  ...                              210\n",
            "8        Mashed Potaoes  ...                              210\n",
            "9              Stuffing  ...                               28\n",
            "10             Stuffing  ...                               28\n",
            "11             Stuffing  ...                              228\n",
            "12           Corn Bread  ...                               51\n",
            "13           Corn Bread  ...                               51\n",
            "14           Corn Bread  ...                               60\n",
            "15  Macaroni and Cheese  ...                               99\n",
            "16  Macaroni and Cheese  ...                               99\n",
            "17  Macaroni and Cheese  ...                              230\n",
            "18           Greenbeans  ...                              125\n",
            "19           Greenbeans  ...                              125\n",
            "20           Greenbeans  ...                              125\n",
            "21          Pumpkin Pie  ...                               28\n",
            "22          Pumpkin Pie  ...                               28\n",
            "23          Pumpkin Pie  ...                              154\n",
            "\n",
            "[24 rows x 6 columns]\n"
          ]
        }
      ]
    },
    {
      "cell_type": "code",
      "source": [
        "Foods._get_numeric_data()"
      ],
      "metadata": {
        "colab": {
          "base_uri": "https://localhost:8080/",
          "height": 802
        },
        "id": "QKBIYAEaaF47",
        "outputId": "62d87e38-a989-4307-bb49-ba5e60c43f7d"
      },
      "execution_count": 3,
      "outputs": [
        {
          "output_type": "execute_result",
          "data": {
            "text/html": [
              "<div>\n",
              "<style scoped>\n",
              "    .dataframe tbody tr th:only-of-type {\n",
              "        vertical-align: middle;\n",
              "    }\n",
              "\n",
              "    .dataframe tbody tr th {\n",
              "        vertical-align: top;\n",
              "    }\n",
              "\n",
              "    .dataframe thead th {\n",
              "        text-align: right;\n",
              "    }\n",
              "</style>\n",
              "<table border=\"1\" class=\"dataframe\">\n",
              "  <thead>\n",
              "    <tr style=\"text-align: right;\">\n",
              "      <th></th>\n",
              "      <th>Calories</th>\n",
              "      <th>Protein (g)</th>\n",
              "      <th>Fat (g)</th>\n",
              "      <th>Carbohydrates (g)</th>\n",
              "      <th>Recommended Serving Weight (g)</th>\n",
              "    </tr>\n",
              "  </thead>\n",
              "  <tbody>\n",
              "    <tr>\n",
              "      <th>0</th>\n",
              "      <td>177.00</td>\n",
              "      <td>29.5500</td>\n",
              "      <td>5.5700</td>\n",
              "      <td>0.0500</td>\n",
              "      <td>85</td>\n",
              "    </tr>\n",
              "    <tr>\n",
              "      <th>1</th>\n",
              "      <td>150.45</td>\n",
              "      <td>25.1175</td>\n",
              "      <td>4.7345</td>\n",
              "      <td>0.0425</td>\n",
              "      <td>85</td>\n",
              "    </tr>\n",
              "    <tr>\n",
              "      <th>2</th>\n",
              "      <td>150.45</td>\n",
              "      <td>25.1175</td>\n",
              "      <td>4.7345</td>\n",
              "      <td>0.0425</td>\n",
              "      <td>85</td>\n",
              "    </tr>\n",
              "    <tr>\n",
              "      <th>3</th>\n",
              "      <td>129.00</td>\n",
              "      <td>18.6600</td>\n",
              "      <td>5.7500</td>\n",
              "      <td>1.1800</td>\n",
              "      <td>28</td>\n",
              "    </tr>\n",
              "    <tr>\n",
              "      <th>4</th>\n",
              "      <td>36.12</td>\n",
              "      <td>5.2248</td>\n",
              "      <td>1.6100</td>\n",
              "      <td>0.3304</td>\n",
              "      <td>28</td>\n",
              "    </tr>\n",
              "    <tr>\n",
              "      <th>5</th>\n",
              "      <td>109.65</td>\n",
              "      <td>15.8610</td>\n",
              "      <td>4.8875</td>\n",
              "      <td>1.0030</td>\n",
              "      <td>85</td>\n",
              "    </tr>\n",
              "    <tr>\n",
              "      <th>6</th>\n",
              "      <td>113.00</td>\n",
              "      <td>1.8600</td>\n",
              "      <td>4.2200</td>\n",
              "      <td>16.8100</td>\n",
              "      <td>210</td>\n",
              "    </tr>\n",
              "    <tr>\n",
              "      <th>7</th>\n",
              "      <td>237.30</td>\n",
              "      <td>3.9060</td>\n",
              "      <td>8.8620</td>\n",
              "      <td>35.3010</td>\n",
              "      <td>210</td>\n",
              "    </tr>\n",
              "    <tr>\n",
              "      <th>8</th>\n",
              "      <td>237.30</td>\n",
              "      <td>3.9060</td>\n",
              "      <td>8.8620</td>\n",
              "      <td>35.3010</td>\n",
              "      <td>210</td>\n",
              "    </tr>\n",
              "    <tr>\n",
              "      <th>9</th>\n",
              "      <td>177.00</td>\n",
              "      <td>3.2000</td>\n",
              "      <td>8.6000</td>\n",
              "      <td>21.7000</td>\n",
              "      <td>28</td>\n",
              "    </tr>\n",
              "    <tr>\n",
              "      <th>10</th>\n",
              "      <td>49.56</td>\n",
              "      <td>0.8960</td>\n",
              "      <td>2.4080</td>\n",
              "      <td>6.0760</td>\n",
              "      <td>28</td>\n",
              "    </tr>\n",
              "    <tr>\n",
              "      <th>11</th>\n",
              "      <td>403.56</td>\n",
              "      <td>7.2960</td>\n",
              "      <td>19.6080</td>\n",
              "      <td>49.4760</td>\n",
              "      <td>228</td>\n",
              "    </tr>\n",
              "    <tr>\n",
              "      <th>12</th>\n",
              "      <td>330.00</td>\n",
              "      <td>6.5900</td>\n",
              "      <td>9.5800</td>\n",
              "      <td>54.4600</td>\n",
              "      <td>51</td>\n",
              "    </tr>\n",
              "    <tr>\n",
              "      <th>13</th>\n",
              "      <td>168.30</td>\n",
              "      <td>3.3609</td>\n",
              "      <td>4.8858</td>\n",
              "      <td>27.7746</td>\n",
              "      <td>51</td>\n",
              "    </tr>\n",
              "    <tr>\n",
              "      <th>14</th>\n",
              "      <td>198.00</td>\n",
              "      <td>3.9540</td>\n",
              "      <td>5.7480</td>\n",
              "      <td>32.6760</td>\n",
              "      <td>60</td>\n",
              "    </tr>\n",
              "    <tr>\n",
              "      <th>15</th>\n",
              "      <td>222.00</td>\n",
              "      <td>8.6800</td>\n",
              "      <td>10.4000</td>\n",
              "      <td>23.1000</td>\n",
              "      <td>99</td>\n",
              "    </tr>\n",
              "    <tr>\n",
              "      <th>16</th>\n",
              "      <td>219.78</td>\n",
              "      <td>8.5932</td>\n",
              "      <td>10.2960</td>\n",
              "      <td>22.8690</td>\n",
              "      <td>99</td>\n",
              "    </tr>\n",
              "    <tr>\n",
              "      <th>17</th>\n",
              "      <td>510.60</td>\n",
              "      <td>19.9640</td>\n",
              "      <td>23.9200</td>\n",
              "      <td>53.1300</td>\n",
              "      <td>230</td>\n",
              "    </tr>\n",
              "    <tr>\n",
              "      <th>18</th>\n",
              "      <td>35.00</td>\n",
              "      <td>1.8900</td>\n",
              "      <td>0.2800</td>\n",
              "      <td>7.8800</td>\n",
              "      <td>125</td>\n",
              "    </tr>\n",
              "    <tr>\n",
              "      <th>19</th>\n",
              "      <td>43.75</td>\n",
              "      <td>2.3625</td>\n",
              "      <td>0.3500</td>\n",
              "      <td>9.8500</td>\n",
              "      <td>125</td>\n",
              "    </tr>\n",
              "    <tr>\n",
              "      <th>20</th>\n",
              "      <td>43.80</td>\n",
              "      <td>2.4000</td>\n",
              "      <td>0.4000</td>\n",
              "      <td>9.9000</td>\n",
              "      <td>125</td>\n",
              "    </tr>\n",
              "    <tr>\n",
              "      <th>21</th>\n",
              "      <td>243.00</td>\n",
              "      <td>3.9000</td>\n",
              "      <td>9.7500</td>\n",
              "      <td>34.8300</td>\n",
              "      <td>28</td>\n",
              "    </tr>\n",
              "    <tr>\n",
              "      <th>22</th>\n",
              "      <td>68.04</td>\n",
              "      <td>1.0920</td>\n",
              "      <td>2.7300</td>\n",
              "      <td>9.7524</td>\n",
              "      <td>28</td>\n",
              "    </tr>\n",
              "    <tr>\n",
              "      <th>23</th>\n",
              "      <td>374.22</td>\n",
              "      <td>6.0060</td>\n",
              "      <td>15.0150</td>\n",
              "      <td>53.6382</td>\n",
              "      <td>154</td>\n",
              "    </tr>\n",
              "  </tbody>\n",
              "</table>\n",
              "</div>"
            ],
            "text/plain": [
              "    Calories  Protein (g)  ...  Carbohydrates (g)   Recommended Serving Weight (g)\n",
              "0     177.00      29.5500  ...             0.0500                               85\n",
              "1     150.45      25.1175  ...             0.0425                               85\n",
              "2     150.45      25.1175  ...             0.0425                               85\n",
              "3     129.00      18.6600  ...             1.1800                               28\n",
              "4      36.12       5.2248  ...             0.3304                               28\n",
              "5     109.65      15.8610  ...             1.0030                               85\n",
              "6     113.00       1.8600  ...            16.8100                              210\n",
              "7     237.30       3.9060  ...            35.3010                              210\n",
              "8     237.30       3.9060  ...            35.3010                              210\n",
              "9     177.00       3.2000  ...            21.7000                               28\n",
              "10     49.56       0.8960  ...             6.0760                               28\n",
              "11    403.56       7.2960  ...            49.4760                              228\n",
              "12    330.00       6.5900  ...            54.4600                               51\n",
              "13    168.30       3.3609  ...            27.7746                               51\n",
              "14    198.00       3.9540  ...            32.6760                               60\n",
              "15    222.00       8.6800  ...            23.1000                               99\n",
              "16    219.78       8.5932  ...            22.8690                               99\n",
              "17    510.60      19.9640  ...            53.1300                              230\n",
              "18     35.00       1.8900  ...             7.8800                              125\n",
              "19     43.75       2.3625  ...             9.8500                              125\n",
              "20     43.80       2.4000  ...             9.9000                              125\n",
              "21    243.00       3.9000  ...            34.8300                               28\n",
              "22     68.04       1.0920  ...             9.7524                               28\n",
              "23    374.22       6.0060  ...            53.6382                              154\n",
              "\n",
              "[24 rows x 5 columns]"
            ]
          },
          "metadata": {},
          "execution_count": 3
        }
      ]
    },
    {
      "cell_type": "code",
      "source": [
        "df = pd.DataFrame(data=Foods)"
      ],
      "metadata": {
        "id": "l_ngvPPCaMlA"
      },
      "execution_count": 4,
      "outputs": []
    },
    {
      "cell_type": "code",
      "source": [
        "pip install pingouin"
      ],
      "metadata": {
        "id": "PFasBNstaPka"
      },
      "execution_count": null,
      "outputs": []
    },
    {
      "cell_type": "code",
      "source": [
        "import pingouin as pg"
      ],
      "metadata": {
        "id": "UKfiVdLmaS-F"
      },
      "execution_count": 6,
      "outputs": []
    },
    {
      "cell_type": "code",
      "source": [
        "pg.cronbach_alpha(data=Foods._get_numeric_data())"
      ],
      "metadata": {
        "colab": {
          "base_uri": "https://localhost:8080/"
        },
        "id": "Rxd7rUNkac1M",
        "outputId": "4dcdb79c-037b-40b8-dc25-712b81176783"
      },
      "execution_count": 7,
      "outputs": [
        {
          "output_type": "execute_result",
          "data": {
            "text/plain": [
              "(0.5456305742875833, array([0.177, 0.78 ]))"
            ]
          },
          "metadata": {},
          "execution_count": 7
        }
      ]
    },
    {
      "cell_type": "markdown",
      "source": [
        "# What should the average American be consuming?\n"
      ],
      "metadata": {
        "id": "Q7Jfya7dcT0U"
      }
    },
    {
      "cell_type": "code",
      "source": [
        "Americans = pd.read_csv('/content/Data_Analysis_Should_Eat.csv')\n",
        "print(Americans)"
      ],
      "metadata": {
        "colab": {
          "base_uri": "https://localhost:8080/"
        },
        "id": "Zcf5vLo6cZOM",
        "outputId": "0b4e350d-676b-456a-d03b-d63d07098ceb"
      },
      "execution_count": 11,
      "outputs": [
        {
          "output_type": "stream",
          "name": "stdout",
          "text": [
            "                  Foods  ...   Recommended Serving Weight (g)\n",
            "0                Turkey  ...                               85\n",
            "1                Turkey  ...                               85\n",
            "2            Sprial Ham  ...                               28\n",
            "3            Sprial Ham  ...                               28\n",
            "4        Mashed Potaoes  ...                              210\n",
            "5        Mashed Potaoes  ...                              210\n",
            "6              Stuffing  ...                               28\n",
            "7              Stuffing  ...                               28\n",
            "8            Corn Bread  ...                               51\n",
            "9            Corn Bread  ...                               51\n",
            "10  Macaroni and Cheese  ...                               99\n",
            "11  Macaroni and Cheese  ...                               99\n",
            "12           Greenbeans  ...                              125\n",
            "13           Greenbeans  ...                              125\n",
            "14          Pumpkin Pie  ...                               28\n",
            "15          Pumpkin Pie  ...                               28\n",
            "\n",
            "[16 rows x 6 columns]\n"
          ]
        }
      ]
    },
    {
      "cell_type": "code",
      "source": [
        "Americans._get_numeric_data()"
      ],
      "metadata": {
        "colab": {
          "base_uri": "https://localhost:8080/",
          "height": 551
        },
        "id": "H3vPQKnjcpPq",
        "outputId": "0a4fd570-cb36-457c-a8aa-2ac8a2dcedb4"
      },
      "execution_count": 12,
      "outputs": [
        {
          "output_type": "execute_result",
          "data": {
            "text/html": [
              "<div>\n",
              "<style scoped>\n",
              "    .dataframe tbody tr th:only-of-type {\n",
              "        vertical-align: middle;\n",
              "    }\n",
              "\n",
              "    .dataframe tbody tr th {\n",
              "        vertical-align: top;\n",
              "    }\n",
              "\n",
              "    .dataframe thead th {\n",
              "        text-align: right;\n",
              "    }\n",
              "</style>\n",
              "<table border=\"1\" class=\"dataframe\">\n",
              "  <thead>\n",
              "    <tr style=\"text-align: right;\">\n",
              "      <th></th>\n",
              "      <th>Calories</th>\n",
              "      <th>Protein (g)</th>\n",
              "      <th>Fat (g)</th>\n",
              "      <th>Carbohydrates (g)</th>\n",
              "      <th>Recommended Serving Weight (g)</th>\n",
              "    </tr>\n",
              "  </thead>\n",
              "  <tbody>\n",
              "    <tr>\n",
              "      <th>0</th>\n",
              "      <td>177.00</td>\n",
              "      <td>29.5500</td>\n",
              "      <td>5.5700</td>\n",
              "      <td>0.0500</td>\n",
              "      <td>85</td>\n",
              "    </tr>\n",
              "    <tr>\n",
              "      <th>1</th>\n",
              "      <td>150.45</td>\n",
              "      <td>25.1175</td>\n",
              "      <td>4.7345</td>\n",
              "      <td>0.0425</td>\n",
              "      <td>85</td>\n",
              "    </tr>\n",
              "    <tr>\n",
              "      <th>2</th>\n",
              "      <td>129.00</td>\n",
              "      <td>18.6600</td>\n",
              "      <td>5.7500</td>\n",
              "      <td>1.1800</td>\n",
              "      <td>28</td>\n",
              "    </tr>\n",
              "    <tr>\n",
              "      <th>3</th>\n",
              "      <td>36.12</td>\n",
              "      <td>5.2248</td>\n",
              "      <td>1.6100</td>\n",
              "      <td>0.3304</td>\n",
              "      <td>28</td>\n",
              "    </tr>\n",
              "    <tr>\n",
              "      <th>4</th>\n",
              "      <td>113.00</td>\n",
              "      <td>1.8600</td>\n",
              "      <td>4.2200</td>\n",
              "      <td>16.8100</td>\n",
              "      <td>210</td>\n",
              "    </tr>\n",
              "    <tr>\n",
              "      <th>5</th>\n",
              "      <td>237.30</td>\n",
              "      <td>3.9060</td>\n",
              "      <td>8.8620</td>\n",
              "      <td>35.3010</td>\n",
              "      <td>210</td>\n",
              "    </tr>\n",
              "    <tr>\n",
              "      <th>6</th>\n",
              "      <td>177.00</td>\n",
              "      <td>3.2000</td>\n",
              "      <td>8.6000</td>\n",
              "      <td>21.7000</td>\n",
              "      <td>28</td>\n",
              "    </tr>\n",
              "    <tr>\n",
              "      <th>7</th>\n",
              "      <td>49.56</td>\n",
              "      <td>0.8960</td>\n",
              "      <td>2.4080</td>\n",
              "      <td>6.0760</td>\n",
              "      <td>28</td>\n",
              "    </tr>\n",
              "    <tr>\n",
              "      <th>8</th>\n",
              "      <td>330.00</td>\n",
              "      <td>6.5900</td>\n",
              "      <td>9.5800</td>\n",
              "      <td>54.4600</td>\n",
              "      <td>51</td>\n",
              "    </tr>\n",
              "    <tr>\n",
              "      <th>9</th>\n",
              "      <td>168.30</td>\n",
              "      <td>3.3609</td>\n",
              "      <td>4.8858</td>\n",
              "      <td>27.7746</td>\n",
              "      <td>51</td>\n",
              "    </tr>\n",
              "    <tr>\n",
              "      <th>10</th>\n",
              "      <td>222.00</td>\n",
              "      <td>8.6800</td>\n",
              "      <td>10.4000</td>\n",
              "      <td>23.1000</td>\n",
              "      <td>99</td>\n",
              "    </tr>\n",
              "    <tr>\n",
              "      <th>11</th>\n",
              "      <td>219.78</td>\n",
              "      <td>8.5932</td>\n",
              "      <td>10.2960</td>\n",
              "      <td>22.8690</td>\n",
              "      <td>99</td>\n",
              "    </tr>\n",
              "    <tr>\n",
              "      <th>12</th>\n",
              "      <td>35.00</td>\n",
              "      <td>1.8900</td>\n",
              "      <td>0.2800</td>\n",
              "      <td>7.8800</td>\n",
              "      <td>125</td>\n",
              "    </tr>\n",
              "    <tr>\n",
              "      <th>13</th>\n",
              "      <td>43.75</td>\n",
              "      <td>2.3625</td>\n",
              "      <td>0.3500</td>\n",
              "      <td>9.8500</td>\n",
              "      <td>125</td>\n",
              "    </tr>\n",
              "    <tr>\n",
              "      <th>14</th>\n",
              "      <td>243.00</td>\n",
              "      <td>3.9000</td>\n",
              "      <td>9.7500</td>\n",
              "      <td>34.8300</td>\n",
              "      <td>28</td>\n",
              "    </tr>\n",
              "    <tr>\n",
              "      <th>15</th>\n",
              "      <td>68.04</td>\n",
              "      <td>1.0920</td>\n",
              "      <td>2.7300</td>\n",
              "      <td>9.7524</td>\n",
              "      <td>28</td>\n",
              "    </tr>\n",
              "  </tbody>\n",
              "</table>\n",
              "</div>"
            ],
            "text/plain": [
              "    Calories  Protein (g)  ...  Carbohydrates (g)   Recommended Serving Weight (g)\n",
              "0     177.00      29.5500  ...             0.0500                               85\n",
              "1     150.45      25.1175  ...             0.0425                               85\n",
              "2     129.00      18.6600  ...             1.1800                               28\n",
              "3      36.12       5.2248  ...             0.3304                               28\n",
              "4     113.00       1.8600  ...            16.8100                              210\n",
              "5     237.30       3.9060  ...            35.3010                              210\n",
              "6     177.00       3.2000  ...            21.7000                               28\n",
              "7      49.56       0.8960  ...             6.0760                               28\n",
              "8     330.00       6.5900  ...            54.4600                               51\n",
              "9     168.30       3.3609  ...            27.7746                               51\n",
              "10    222.00       8.6800  ...            23.1000                               99\n",
              "11    219.78       8.5932  ...            22.8690                               99\n",
              "12     35.00       1.8900  ...             7.8800                              125\n",
              "13     43.75       2.3625  ...             9.8500                              125\n",
              "14    243.00       3.9000  ...            34.8300                               28\n",
              "15     68.04       1.0920  ...             9.7524                               28\n",
              "\n",
              "[16 rows x 5 columns]"
            ]
          },
          "metadata": {},
          "execution_count": 12
        }
      ]
    },
    {
      "cell_type": "code",
      "source": [
        "pg.cronbach_alpha(data=Americans._get_numeric_data())"
      ],
      "metadata": {
        "colab": {
          "base_uri": "https://localhost:8080/"
        },
        "id": "khkzl7CdcvyI",
        "outputId": "005588a2-50f7-41f7-fb5d-338428fcbe6b"
      },
      "execution_count": 13,
      "outputs": [
        {
          "output_type": "execute_result",
          "data": {
            "text/plain": [
              "(0.2987440211494462, array([-0.446,  0.722]))"
            ]
          },
          "metadata": {},
          "execution_count": 13
        }
      ]
    }
  ]
}